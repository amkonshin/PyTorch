{
  "nbformat": 4,
  "nbformat_minor": 0,
  "metadata": {
    "kernelspec": {
      "display_name": "Python 3",
      "language": "python",
      "name": "python3"
    },
    "language_info": {
      "codemirror_mode": {
        "name": "ipython",
        "version": 3
      },
      "file_extension": ".py",
      "mimetype": "text/x-python",
      "name": "python",
      "nbconvert_exporter": "python",
      "pygments_lexer": "ipython3",
      "version": "3.7.4"
    },
    "colab": {
      "name": "PyTorch_Intro.ipynb",
      "provenance": []
    },
    "accelerator": "TPU",
    "widgets": {
      "application/vnd.jupyter.widget-state+json": {
        "5619e4e700074544a5a8a4ec7bc9fc03": {
          "model_module": "@jupyter-widgets/controls",
          "model_name": "HBoxModel",
          "state": {
            "_view_name": "HBoxView",
            "_dom_classes": [],
            "_model_name": "HBoxModel",
            "_view_module": "@jupyter-widgets/controls",
            "_model_module_version": "1.5.0",
            "_view_count": null,
            "_view_module_version": "1.5.0",
            "box_style": "",
            "layout": "IPY_MODEL_ae60ca501a354b2887453c118df47de9",
            "_model_module": "@jupyter-widgets/controls",
            "children": [
              "IPY_MODEL_7e647bb49eb049d2b5108e791e97f3ae",
              "IPY_MODEL_ce703bce4fe442f9a9e5fac4262b53bc"
            ]
          }
        },
        "ae60ca501a354b2887453c118df47de9": {
          "model_module": "@jupyter-widgets/base",
          "model_name": "LayoutModel",
          "state": {
            "_view_name": "LayoutView",
            "grid_template_rows": null,
            "right": null,
            "justify_content": null,
            "_view_module": "@jupyter-widgets/base",
            "overflow": null,
            "_model_module_version": "1.2.0",
            "_view_count": null,
            "flex_flow": null,
            "width": null,
            "min_width": null,
            "border": null,
            "align_items": null,
            "bottom": null,
            "_model_module": "@jupyter-widgets/base",
            "top": null,
            "grid_column": null,
            "overflow_y": null,
            "overflow_x": null,
            "grid_auto_flow": null,
            "grid_area": null,
            "grid_template_columns": null,
            "flex": null,
            "_model_name": "LayoutModel",
            "justify_items": null,
            "grid_row": null,
            "max_height": null,
            "align_content": null,
            "visibility": null,
            "align_self": null,
            "height": null,
            "min_height": null,
            "padding": null,
            "grid_auto_rows": null,
            "grid_gap": null,
            "max_width": null,
            "order": null,
            "_view_module_version": "1.2.0",
            "grid_template_areas": null,
            "object_position": null,
            "object_fit": null,
            "grid_auto_columns": null,
            "margin": null,
            "display": null,
            "left": null
          }
        },
        "7e647bb49eb049d2b5108e791e97f3ae": {
          "model_module": "@jupyter-widgets/controls",
          "model_name": "FloatProgressModel",
          "state": {
            "_view_name": "ProgressView",
            "style": "IPY_MODEL_1d3b1fdd042242789b03de712071a756",
            "_dom_classes": [],
            "description": "",
            "_model_name": "FloatProgressModel",
            "bar_style": "success",
            "max": 1,
            "_view_module": "@jupyter-widgets/controls",
            "_model_module_version": "1.5.0",
            "value": 1,
            "_view_count": null,
            "_view_module_version": "1.5.0",
            "orientation": "horizontal",
            "min": 0,
            "description_tooltip": null,
            "_model_module": "@jupyter-widgets/controls",
            "layout": "IPY_MODEL_6de608fd5d1b44dc8251a956eec0b92d"
          }
        },
        "ce703bce4fe442f9a9e5fac4262b53bc": {
          "model_module": "@jupyter-widgets/controls",
          "model_name": "HTMLModel",
          "state": {
            "_view_name": "HTMLView",
            "style": "IPY_MODEL_41e03dba42ff40b19df5b2ea8a25ee4f",
            "_dom_classes": [],
            "description": "",
            "_model_name": "HTMLModel",
            "placeholder": "​",
            "_view_module": "@jupyter-widgets/controls",
            "_model_module_version": "1.5.0",
            "value": " 170500096/? [00:06&lt;00:00, 25825286.95it/s]",
            "_view_count": null,
            "_view_module_version": "1.5.0",
            "description_tooltip": null,
            "_model_module": "@jupyter-widgets/controls",
            "layout": "IPY_MODEL_8b0d94377cda48b99a1627718f902e8a"
          }
        },
        "1d3b1fdd042242789b03de712071a756": {
          "model_module": "@jupyter-widgets/controls",
          "model_name": "ProgressStyleModel",
          "state": {
            "_view_name": "StyleView",
            "_model_name": "ProgressStyleModel",
            "description_width": "initial",
            "_view_module": "@jupyter-widgets/base",
            "_model_module_version": "1.5.0",
            "_view_count": null,
            "_view_module_version": "1.2.0",
            "bar_color": null,
            "_model_module": "@jupyter-widgets/controls"
          }
        },
        "6de608fd5d1b44dc8251a956eec0b92d": {
          "model_module": "@jupyter-widgets/base",
          "model_name": "LayoutModel",
          "state": {
            "_view_name": "LayoutView",
            "grid_template_rows": null,
            "right": null,
            "justify_content": null,
            "_view_module": "@jupyter-widgets/base",
            "overflow": null,
            "_model_module_version": "1.2.0",
            "_view_count": null,
            "flex_flow": null,
            "width": null,
            "min_width": null,
            "border": null,
            "align_items": null,
            "bottom": null,
            "_model_module": "@jupyter-widgets/base",
            "top": null,
            "grid_column": null,
            "overflow_y": null,
            "overflow_x": null,
            "grid_auto_flow": null,
            "grid_area": null,
            "grid_template_columns": null,
            "flex": null,
            "_model_name": "LayoutModel",
            "justify_items": null,
            "grid_row": null,
            "max_height": null,
            "align_content": null,
            "visibility": null,
            "align_self": null,
            "height": null,
            "min_height": null,
            "padding": null,
            "grid_auto_rows": null,
            "grid_gap": null,
            "max_width": null,
            "order": null,
            "_view_module_version": "1.2.0",
            "grid_template_areas": null,
            "object_position": null,
            "object_fit": null,
            "grid_auto_columns": null,
            "margin": null,
            "display": null,
            "left": null
          }
        },
        "41e03dba42ff40b19df5b2ea8a25ee4f": {
          "model_module": "@jupyter-widgets/controls",
          "model_name": "DescriptionStyleModel",
          "state": {
            "_view_name": "StyleView",
            "_model_name": "DescriptionStyleModel",
            "description_width": "",
            "_view_module": "@jupyter-widgets/base",
            "_model_module_version": "1.5.0",
            "_view_count": null,
            "_view_module_version": "1.2.0",
            "_model_module": "@jupyter-widgets/controls"
          }
        },
        "8b0d94377cda48b99a1627718f902e8a": {
          "model_module": "@jupyter-widgets/base",
          "model_name": "LayoutModel",
          "state": {
            "_view_name": "LayoutView",
            "grid_template_rows": null,
            "right": null,
            "justify_content": null,
            "_view_module": "@jupyter-widgets/base",
            "overflow": null,
            "_model_module_version": "1.2.0",
            "_view_count": null,
            "flex_flow": null,
            "width": null,
            "min_width": null,
            "border": null,
            "align_items": null,
            "bottom": null,
            "_model_module": "@jupyter-widgets/base",
            "top": null,
            "grid_column": null,
            "overflow_y": null,
            "overflow_x": null,
            "grid_auto_flow": null,
            "grid_area": null,
            "grid_template_columns": null,
            "flex": null,
            "_model_name": "LayoutModel",
            "justify_items": null,
            "grid_row": null,
            "max_height": null,
            "align_content": null,
            "visibility": null,
            "align_self": null,
            "height": null,
            "min_height": null,
            "padding": null,
            "grid_auto_rows": null,
            "grid_gap": null,
            "max_width": null,
            "order": null,
            "_view_module_version": "1.2.0",
            "grid_template_areas": null,
            "object_position": null,
            "object_fit": null,
            "grid_auto_columns": null,
            "margin": null,
            "display": null,
            "left": null
          }
        }
      }
    }
  },
  "cells": [
    {
      "cell_type": "markdown",
      "metadata": {
        "id": "pRpLtLFDj7h0"
      },
      "source": [
        "Увеличил количество ядер на сверточных слоях, увеличил количество эпох обучения, по итогу сеть верно определила 7 из 10 изображений.\n",
        "Вопрос: хотелось бы чтобы вы подробнее объяснили механизмы инициализации сети и функции forward. Код из блокнота есть  в мануале pytorch, но у меня нет понимания, что это за функция и как ее дополнять. Из-за этого как не старался, не смог добавить новый светочный слой.\n"
      ]
    },
    {
      "cell_type": "markdown",
      "metadata": {
        "id": "YGeRzKBeanwf"
      },
      "source": [
        "#### Загрузка существующего датасета:"
      ]
    },
    {
      "cell_type": "code",
      "metadata": {
        "id": "aLrJGwF2anwf"
      },
      "source": [
        "from torch import nn \n",
        "from torch import optim\n",
        "from torch.autograd import Variable\n",
        "import torch\n",
        "import torchvision\n",
        "import numpy as np\n",
        "import torchvision.transforms as transforms\n",
        "import matplotlib.pyplot as plt ### воспользуемся для отображения изображения"
      ],
      "execution_count": 2,
      "outputs": []
    },
    {
      "cell_type": "code",
      "metadata": {
        "colab": {
          "base_uri": "https://localhost:8080/",
          "height": 117,
          "referenced_widgets": [
            "5619e4e700074544a5a8a4ec7bc9fc03",
            "ae60ca501a354b2887453c118df47de9",
            "7e647bb49eb049d2b5108e791e97f3ae",
            "ce703bce4fe442f9a9e5fac4262b53bc",
            "1d3b1fdd042242789b03de712071a756",
            "6de608fd5d1b44dc8251a956eec0b92d",
            "41e03dba42ff40b19df5b2ea8a25ee4f",
            "8b0d94377cda48b99a1627718f902e8a"
          ]
        },
        "id": "8rprKELfanwf",
        "outputId": "62385ad4-37d8-4be8-c959-1451f2b861f3"
      },
      "source": [
        "train_dataset = torchvision.datasets.CIFAR10(root='../../data/',\n",
        "                                             train=True,  \n",
        "                                             transform=transforms.ToTensor(), \n",
        "                                             download=True)\n",
        "\n",
        "\n",
        "image, label = train_dataset[0]\n",
        "print (image.size())\n",
        "print (label)"
      ],
      "execution_count": 4,
      "outputs": [
        {
          "output_type": "stream",
          "text": [
            "Downloading https://www.cs.toronto.edu/~kriz/cifar-10-python.tar.gz to ../../data/cifar-10-python.tar.gz\n"
          ],
          "name": "stdout"
        },
        {
          "output_type": "display_data",
          "data": {
            "application/vnd.jupyter.widget-view+json": {
              "model_id": "5619e4e700074544a5a8a4ec7bc9fc03",
              "version_minor": 0,
              "version_major": 2
            },
            "text/plain": [
              "HBox(children=(FloatProgress(value=1.0, bar_style='info', max=1.0), HTML(value='')))"
            ]
          },
          "metadata": {
            "tags": []
          }
        },
        {
          "output_type": "stream",
          "text": [
            "Extracting ../../data/cifar-10-python.tar.gz to ../../data/\n",
            "torch.Size([3, 32, 32])\n",
            "6\n"
          ],
          "name": "stdout"
        }
      ]
    },
    {
      "cell_type": "code",
      "metadata": {
        "scrolled": true,
        "colab": {
          "base_uri": "https://localhost:8080/",
          "height": 283
        },
        "id": "HIOIF9lcanwf",
        "outputId": "06d027e0-dd70-4c43-f4c6-1350965d7f10"
      },
      "source": [
        "plt.imshow(image.permute(1, 2, 0).numpy())"
      ],
      "execution_count": 5,
      "outputs": [
        {
          "output_type": "execute_result",
          "data": {
            "text/plain": [
              "<matplotlib.image.AxesImage at 0x7f6a0bd66ac8>"
            ]
          },
          "metadata": {
            "tags": []
          },
          "execution_count": 5
        },
        {
          "output_type": "stream",
          "text": [
            "\n"
          ],
          "name": "stdout"
        },
        {
          "output_type": "display_data",
          "data": {
            "image/png": "[encoded data removed]",
            "text/plain": [
              "<Figure size 432x288 with 1 Axes>"
            ]
          },
          "metadata": {
            "tags": [],
            "needs_background": "light"
          }
        }
      ]
    },
    {
      "cell_type": "code",
      "metadata": {
        "id": "1tpB2iRjanwg"
      },
      "source": [
        "train_loader = torch.utils.data.DataLoader(dataset=train_dataset,\n",
        "                                           batch_size=64, \n",
        "                                           shuffle=True)"
      ],
      "execution_count": 6,
      "outputs": []
    },
    {
      "cell_type": "code",
      "metadata": {
        "colab": {
          "base_uri": "https://localhost:8080/"
        },
        "id": "ZgSAV9iQanwg",
        "outputId": "a8fb4010-87a0-42a8-f2e0-45d43695308e"
      },
      "source": [
        "test_dataset = torchvision.datasets.CIFAR10(root='./data', train=False,\n",
        "                                       download=True, transform=transforms.ToTensor())\n",
        "test_loader = torch.utils.data.DataLoader(test_dataset, batch_size=10,\n",
        "                                         shuffle=False)"
      ],
      "execution_count": 33,
      "outputs": [
        {
          "output_type": "stream",
          "text": [
            "Files already downloaded and verified\n"
          ],
          "name": "stdout"
        }
      ]
    },
    {
      "cell_type": "code",
      "metadata": {
        "id": "FDOUBGZPanwg"
      },
      "source": [
        "classes = ('plane', 'car', 'bird', 'cat',\n",
        "           'deer', 'dog', 'frog', 'horse', 'ship', 'truck')"
      ],
      "execution_count": 17,
      "outputs": []
    },
    {
      "cell_type": "markdown",
      "metadata": {
        "id": "zWB-Ens5anwg"
      },
      "source": [
        "Определим следующую модель:"
      ]
    },
    {
      "cell_type": "code",
      "metadata": {
        "id": "t1BQEPqRanwg"
      },
      "source": [
        "import torch.nn.functional as F\n",
        "\n",
        "\n",
        "class Net(nn.Module):\n",
        "    def __init__(self):\n",
        "        super().__init__()\n",
        "        self.conv1 = nn.Conv2d(3, 16, 5)\n",
        "        self.pool = nn.MaxPool2d(2, 2)\n",
        "        self.conv2 = nn.Conv2d(16, 32, 5)\n",
        "        self.fc1 = nn.Linear(32 * 5 * 5, 120)\n",
        "        self.fc2 = nn.Linear(120, 84)\n",
        "        self.fc3 = nn.Linear(84, 10)\n",
        "\n",
        "    def forward(self, x):\n",
        "        x = self.pool(F.relu(self.conv1(x)))\n",
        "        x = self.pool(F.relu(self.conv2(x)))\n",
        "        x = x.view(-1, 32 * 5 * 5)\n",
        "        x = F.relu(self.fc1(x))\n",
        "        x = F.relu(self.fc2(x))\n",
        "        x = self.fc3(x)\n",
        "        return x\n",
        "\n",
        "\n",
        "net = Net().to('cpu')"
      ],
      "execution_count": 12,
      "outputs": []
    },
    {
      "cell_type": "code",
      "metadata": {
        "id": "xkOWNsy3anwg"
      },
      "source": [
        "criterion = nn.CrossEntropyLoss()\n",
        "optimizer = optim.SGD(net.parameters(), lr=0.001, momentum=0.9)"
      ],
      "execution_count": 13,
      "outputs": []
    },
    {
      "cell_type": "code",
      "metadata": {
        "colab": {
          "base_uri": "https://localhost:8080/"
        },
        "id": "RCF458qIanwg",
        "outputId": "a61ce09c-be23-4cb2-fdba-c5eced8f1051"
      },
      "source": [
        "for epoch in range(4):  \n",
        "    running_loss = 0.0\n",
        "    for i, data in enumerate(train_loader, 0):\n",
        "        inputs, labels = data[0], data[1]\n",
        "\n",
        "        # обнуляем градиент\n",
        "        optimizer.zero_grad()\n",
        "\n",
        "        outputs = net(inputs)\n",
        "        loss = criterion(outputs, labels)\n",
        "        loss.backward()\n",
        "        optimizer.step()\n",
        "\n",
        "        # выводим статистику о процессе обучения\n",
        "        running_loss += loss.item()\n",
        "        if i % 300 == 0:    # печатаем каждые 300 mini-batches\n",
        "            print('[%d, %5d] loss: %.3f' %\n",
        "                  (epoch + 1, i + 1, running_loss / 2000))\n",
        "            running_loss = 0.0\n",
        "\n",
        "print('Training is finished!')"
      ],
      "execution_count": 54,
      "outputs": [
        {
          "output_type": "stream",
          "text": [
            "[1,     1] loss: 0.001\n",
            "[1,   301] loss: 0.174\n",
            "[1,   601] loss: 0.175\n",
            "[2,     1] loss: 0.001\n",
            "[2,   301] loss: 0.173\n",
            "[2,   601] loss: 0.169\n",
            "[3,     1] loss: 0.001\n",
            "[3,   301] loss: 0.167\n",
            "[3,   601] loss: 0.167\n",
            "[4,     1] loss: 0.001\n",
            "[4,   301] loss: 0.164\n",
            "[4,   601] loss: 0.162\n",
            "Training is finished!\n"
          ],
          "name": "stdout"
        }
      ]
    },
    {
      "cell_type": "code",
      "metadata": {
        "id": "iYrWhFU7anwg"
      },
      "source": [
        "data_iter = iter(test_loader)\n",
        "images, labels = data_iter.next()"
      ],
      "execution_count": 60,
      "outputs": []
    },
    {
      "cell_type": "code",
      "metadata": {
        "colab": {
          "base_uri": "https://localhost:8080/"
        },
        "id": "mTX-7xAedP63",
        "outputId": "0f3ca4c9-af1c-4f07-aa9c-fd5a0bac6070"
      },
      "source": [
        "labels"
      ],
      "execution_count": 61,
      "outputs": [
        {
          "output_type": "execute_result",
          "data": {
            "text/plain": [
              "tensor([3, 8, 8, 0, 6, 6, 1, 6, 3, 1])"
            ]
          },
          "metadata": {
            "tags": []
          },
          "execution_count": 61
        }
      ]
    },
    {
      "cell_type": "markdown",
      "metadata": {
        "id": "eRHxWhsBdPWA"
      },
      "source": [
        ""
      ]
    },
    {
      "cell_type": "code",
      "metadata": {
        "colab": {
          "base_uri": "https://localhost:8080/",
          "height": 154
        },
        "id": "zfmNKB4Fanwg",
        "outputId": "6e5968db-a471-464b-e31b-be91b933cf06"
      },
      "source": [
        "outputs = net(images)\n",
        "imgs = torchvision.utils.make_grid(images)\n",
        "plt.imshow(imgs.permute(1, 2, 0).numpy())\n",
        "print('GroundTruth: ', ' '.join('%5s' % classes[labels[j]] for j in range(10)))"
      ],
      "execution_count": 62,
      "outputs": [
        {
          "output_type": "stream",
          "text": [
            "GroundTruth:    cat  ship  ship plane  frog  frog   car  frog   cat   car\n"
          ],
          "name": "stdout"
        },
        {
          "output_type": "display_data",
          "data": {
            "image/png": "[encoded data removed]",
            "text/plain": [
              "<Figure size 432x288 with 1 Axes>"
            ]
          },
          "metadata": {
            "tags": [],
            "needs_background": "light"
          }
        }
      ]
    },
    {
      "cell_type": "code",
      "metadata": {
        "id": "JMRKh6lPanwg",
        "outputId": "f6827be8-f1ae-4b1f-e36c-e78530b6ef68"
      },
      "source": [
        "print(outputs)"
      ],
      "execution_count": null,
      "outputs": [
        {
          "output_type": "stream",
          "text": [
            "tensor([[-1.0140, -0.4172,  0.7943,  1.7267, -0.3132,  1.6487,  1.0944, -1.3442,\n",
            "          0.3265, -0.2044],\n",
            "        [ 4.2120,  3.3777, -0.6366, -3.4576,  0.0717, -4.3322, -3.6657, -3.5366,\n",
            "          5.7506,  2.9089],\n",
            "        [ 2.1425,  3.7064, -1.0406, -2.0158, -1.0331, -2.6569, -2.5709, -2.9577,\n",
            "          3.7213,  3.1935],\n",
            "        [ 3.5605,  2.0153,  0.3879, -1.9209,  0.2129, -2.4324, -3.0770, -2.5827,\n",
            "          4.7159,  0.6809]], grad_fn=<AddmmBackward>)\n"
          ],
          "name": "stdout"
        }
      ]
    },
    {
      "cell_type": "code",
      "metadata": {
        "colab": {
          "base_uri": "https://localhost:8080/"
        },
        "id": "jHegwU3Yanwg",
        "outputId": "14ba7beb-7c54-45e4-e75e-dc18bfb259a8"
      },
      "source": [
        "_, predicted = torch.max(outputs, 1)\n",
        "\n",
        "print('Predicted: ', ' '.join('%5s' % classes[predicted[j]]\n",
        "                              for j in range(10)))"
      ],
      "execution_count": 63,
      "outputs": [
        {
          "output_type": "stream",
          "text": [
            "Predicted:    cat plane   car plane  frog  frog   car  frog   dog   car\n"
          ],
          "name": "stdout"
        }
      ]
    },
    {
      "cell_type": "markdown",
      "metadata": {
        "id": "wn-NlZiluK9f"
      },
      "source": [
        "Задача 2. \n",
        "model = tf.keras.models.Sequential([\n",
        "  tf.keras.layers.Flatten(input_shape=(28, 28)),\n",
        "  tf.keras.layers.Dense(128, activation='relu'),\n",
        "  tf.keras.layers.Dropout(0.2),\n",
        "  tf.keras.layers.Dense(10, activation='softmax')\n",
        "])\n",
        "\n",
        "model.compile(optimizer='adam',\n",
        "              loss='sparse_categorical_crossentropy',\n",
        "              metrics=['accuracy'])"
      ]
    },
    {
      "cell_type": "code",
      "metadata": {
        "id": "J_MUuA95uQvS"
      },
      "source": [
        ""
      ],
      "execution_count": null,
      "outputs": []
    },
    {
      "cell_type": "code",
      "metadata": {
        "colab": {
          "base_uri": "https://localhost:8080/"
        },
        "id": "TCRhoDinnXNN",
        "outputId": "07d075c2-e872-481d-a241-dcb049ec43d0"
      },
      "source": [
        "import torch\n",
        "import torch.nn as nn\n",
        "import torch.nn.functional as F\n",
        "import torch.optim as optim\n",
        "from torchvision import datasets, transforms\n",
        "from torch.autograd import Variable\n",
        "\n",
        "# download and transform train dataset\n",
        "train_loader = torch.utils.data.DataLoader(datasets.MNIST('../mnist_data', \n",
        "                                                          download=True, \n",
        "                                                          train=True,\n",
        "                                                          transform=transforms.Compose([\n",
        "                                                              transforms.ToTensor(), # first, convert image to PyTorch tensor\n",
        "                                                              transforms.Normalize((0.1307,), (0.3081,)) # normalize inputs\n",
        "                                                          ])), \n",
        "                                           batch_size=10, \n",
        "                                           shuffle=True)\n",
        "\n",
        "# download and transform test dataset\n",
        "test_loader = torch.utils.data.DataLoader(datasets.MNIST('../mnist_data', \n",
        "                                                          download=True, \n",
        "                                                          train=False,\n",
        "                                                          transform=transforms.Compose([\n",
        "                                                              transforms.ToTensor(), # first, convert image to PyTorch tensor\n",
        "                                                              transforms.Normalize((0.1307,), (0.3081,)) # normalize inputs\n",
        "                                                          ])), \n",
        "                                           batch_size=10, \n",
        "                                           shuffle=True)\n",
        "\n",
        "class CNNClassifier(nn.Module):\n",
        "    \"\"\"Custom module for a simple convnet classifier\"\"\"\n",
        "    def __init__(self):\n",
        "        super(CNNClassifier, self).__init__()\n",
        "        \n",
        "        self.dropout = nn.Dropout2d()\n",
        "        self.fc1 = nn.Linear(784, 128)\n",
        "        self.fc2 = nn.Linear(128, 10)\n",
        "    \n",
        "    def forward(self, x):\n",
        "        \n",
        "        \n",
        "        # flatten 28x28x1 = 784\n",
        "        x = x.view(-1, 784)\n",
        "        \n",
        "        # 784 -> 128\n",
        "        x = F.relu(self.fc1(x))\n",
        "        x = F.dropout(x, p=0.2, training=self.training)\n",
        "        \n",
        "        # 128 -> 10\n",
        "        x = self.fc2(x)\n",
        "        \n",
        "        # transform to logits\n",
        "        return F.log_softmax(x)\n",
        "\n",
        "# create classifier and optimizer objects\n",
        "clf = CNNClassifier()\n",
        "opt = optim.Adam(clf.parameters(), lr=0.01)\n",
        "criterion = nn.CrossEntropyLoss()\n",
        "\n",
        "loss_history = []\n",
        "acc_history = []\n",
        "\n",
        "def train(epoch):\n",
        "    clf.train() # set model in training mode (need this because of dropout)\n",
        "    \n",
        "    # dataset API gives us pythonic batching \n",
        "    for batch_id, (data, label) in enumerate(train_loader):\n",
        "        data = Variable(data)\n",
        "        target = Variable(label)\n",
        "        \n",
        "        # forward pass, calculate loss and backprop!\n",
        "        opt.zero_grad()\n",
        "        preds = clf(data)\n",
        "        loss = criterion(preds, target) #nll_loss(preds, target)\n",
        "        loss.backward()\n",
        "        loss_history.append(loss.data)\n",
        "        opt.step()\n",
        "        \n",
        "        if batch_id % 1000 == 0:\n",
        "            print(loss.data)\n",
        "\n",
        "def test(epoch):\n",
        "    clf.eval() # set model in inference mode (need this because of dropout)\n",
        "    test_loss = 0\n",
        "    correct = 0\n",
        "    \n",
        "    for data, target in test_loader:\n",
        "        data = Variable(data, volatile=True) \n",
        "        target = Variable(target)\n",
        "        \n",
        "        output = clf(data)\n",
        "        test_loss += F.nll_loss(output, target).data\n",
        "        pred = output.data.max(1)[1] # get the index of the max log-probability\n",
        "        correct += pred.eq(target.data).cpu().sum()\n",
        "\n",
        "    test_loss = test_loss\n",
        "    test_loss /= len(test_loader) # loss function already averages over batch size\n",
        "    accuracy = 100. * correct / len(test_loader.dataset)\n",
        "    acc_history.append(accuracy)\n",
        "    print('\\nTest set: Average loss: {:.4f}, Accuracy: {}/{} ({:.0f}%)\\n'.format(\n",
        "        test_loss, correct, len(test_loader.dataset),\n",
        "        accuracy))\n",
        "\n",
        "for epoch in range(0, 3):\n",
        "    print(\"Epoch %d\" % epoch)\n",
        "    train(epoch)\n",
        "    test(epoch)"
      ],
      "execution_count": 77,
      "outputs": [
        {
          "output_type": "stream",
          "text": [
            "Epoch 0\n",
            "tensor(2.3210)\n"
          ],
          "name": "stdout"
        },
        {
          "output_type": "stream",
          "text": [
            "/usr/local/lib/python3.6/dist-packages/ipykernel_launcher.py:63: UserWarning: Implicit dimension choice for log_softmax has been deprecated. Change the call to include dim=X as an argument.\n"
          ],
          "name": "stderr"
        },
        {
          "output_type": "stream",
          "text": [
            "tensor(0.5354)\n",
            "tensor(1.6050)\n",
            "tensor(0.6111)\n",
            "tensor(0.2794)\n",
            "tensor(0.6300)\n"
          ],
          "name": "stdout"
        },
        {
          "output_type": "stream",
          "text": [
            "/usr/local/lib/python3.6/dist-packages/ipykernel_launcher.py:98: UserWarning: volatile was removed and now has no effect. Use `with torch.no_grad():` instead.\n"
          ],
          "name": "stderr"
        },
        {
          "output_type": "stream",
          "text": [
            "\n",
            "Test set: Average loss: 0.5446, Accuracy: 8327/10000 (83%)\n",
            "\n",
            "Epoch 1\n",
            "tensor(0.5745)\n",
            "tensor(0.0645)\n",
            "tensor(3.8286)\n",
            "tensor(0.2232)\n",
            "tensor(1.0288)\n",
            "tensor(0.2898)\n",
            "\n",
            "Test set: Average loss: 0.4298, Accuracy: 8916/10000 (89%)\n",
            "\n",
            "Epoch 2\n",
            "tensor(0.5375)\n",
            "tensor(0.6646)\n",
            "tensor(0.2393)\n",
            "tensor(0.7609)\n",
            "tensor(0.5069)\n",
            "tensor(0.0237)\n",
            "\n",
            "Test set: Average loss: 0.5076, Accuracy: 8729/10000 (87%)\n",
            "\n"
          ],
          "name": "stdout"
        }
      ]
    }
  ]
}